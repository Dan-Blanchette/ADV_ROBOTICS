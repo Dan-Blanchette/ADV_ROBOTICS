{
 "cells": [
  {
   "cell_type": "code",
   "execution_count": 1,
   "id": "301c2279",
   "metadata": {},
   "outputs": [
    {
     "data": {
      "text/plain": [
       "'\\nThreads are a flow of execution IE Main() is a thread A thread has its own resoures allcocated\\nCall Stack, variables, Scope.\\n\\nMulti-Threading:\\nmultiple flows of execution running in your\\nPython can use global variables between threads\\n\\nmessage passing through queues\\n\\nWhy use threads?\\nAllows your program to do more than one process at a time\\n\\n'"
      ]
     },
     "execution_count": 1,
     "metadata": {},
     "output_type": "execute_result"
    }
   ],
   "source": [
    "# ros2 lib\n",
    "# python libs\n",
    "\n",
    "#Basics of Threading\n",
    "'''\n",
    "Threads are a flow of execution IE Main() is a thread A thread has its own resoures allcocated\n",
    "Call Stack, variables, Scope.\n",
    "\n",
    "Multi-Threading:\n",
    "multiple flows of execution running in your\n",
    "Python can use global variables between threads\n",
    "\n",
    "message passing through queues\n",
    "\n",
    "Why use threads?\n",
    "Allows your program to do more than one process at a time.\n",
    "\n",
    "SEE: An intor to Threading in Python tutorial in slides\n",
    "\n",
    "2 main types of threads: Background, Foreground\n",
    " - Background end when the program ends\n",
    " - Foreground run until killed (can be problematic)\n",
    "\n",
    "'''\n",
    "# code example\n",
    "from threading import Thread, current_thread, get_indent, get_native_id\n",
    "\n",
    "if __name__ == \"__main__\"\n",
    "    printThread(\"Main Thead\")\n",
    "    \n",
    "# the daemon parameter is asking \"am I a background for foreground thread?\" \n",
    "# True = background thread, does setting the daemon to False = Foreground thread???\n",
    "    \n",
    "\n",
    "# Resources ROS2: Action Client  \n"
   ]
  },
  {
   "cell_type": "code",
   "execution_count": 8,
   "id": "57f4e955",
   "metadata": {},
   "outputs": [
    {
     "data": {
      "text/plain": [
       "'\\nShared resources must be protected. Due to various hazards.\\nCritical sections\\n - areas of code that have potential hazards usually relating to thread unsafe resources. This area should only be accessed by on thread at a time\\n'"
      ]
     },
     "execution_count": 8,
     "metadata": {},
     "output_type": "execute_result"
    }
   ],
   "source": [
    "#Access Control\n",
    "'''\n",
    "Shared resources must be protected. Due to various hazards.\n",
    "\n",
    "Critical Sections\n",
    " - areas of code that have potential hazards usually relating to thread unsafe resources. \n",
    " This area should only be accessed by on thread at a time.\n",
    " \n",
    "Python Provides a Bunch of Methods:\n",
    "\n",
    "- Locks: allows only one thread can hold the lock. Mutual exclusion.\n",
    "- Acquire and Release.\n",
    "- Blocking/Non-Blocking.\n",
    "\n",
    "Barriers\n",
    " - Synchronizes threads. Block until multiple threads are ready.\n",
    " - Thread number to wait, and timeout to block.\n",
    " \n",
    "Semaphores\n",
    " - Define max number of threads who can acquire the same resource.\n",
    " - Blocks if not availible.\n",
    " - Acquire and realease.\n",
    " - Atomic operations (guaranteed to finish in on instruction cycle)\n",
    "'''\n",
    "# SEE: Code Example"
   ]
  },
  {
   "cell_type": "code",
   "execution_count": 10,
   "id": "9ee30531",
   "metadata": {},
   "outputs": [
    {
     "data": {
      "text/plain": [
       "'\\nRCLPY has two types of executors\\n - Single Threaded\\n - Multi-Threaded\\nWhat are executors?\\n - High level objects that contains a callback list(work ot do)\\n \\nRCLPY single threaded executor RCLPY\\n - A thread pool with a single thread.\\n - This type of \\n\\nRCLPY Multi-Threaded Executor\\n - A thread poool with a user defined number of threads.\\n - This type of executor can have its threads blocked if you are careful about it\\n   - Depends on how many threds were given to the executor. You ALWAYS need at least 1 thread free to perform\\n     internal callbacks\\n   - If you do block, there is still a chance of deadlock\\n'"
      ]
     },
     "execution_count": 10,
     "metadata": {},
     "output_type": "execute_result"
    }
   ],
   "source": [
    "#Executors\n",
    "'''\n",
    "RCLPY has two types of executors\n",
    " - Single Threaded\n",
    " - Multi-Threaded\n",
    "What are executors?\n",
    " - High level objects that contains a callback list(work ot do)\n",
    " \n",
    "RCLPY single threaded executor RCLPY\n",
    " - A thread pool with a single thread.\n",
    " - This type of \n",
    "\n",
    "RCLPY Multi-Threaded Executor\n",
    " - A thread poool with a user defined number of threads.\n",
    " - This type of executor can have its threads blocked if you are careful about it\n",
    "   - Depends on how many threds were given to the executor. You ALWAYS need at least 1 thread free to perform\n",
    "     internal callbacks\n",
    "   - If you do block, there is still a chance of deadlock\n",
    "'''"
   ]
  },
  {
   "cell_type": "code",
   "execution_count": 4,
   "id": "e36e7a4d",
   "metadata": {},
   "outputs": [],
   "source": [
    "#Futures\n",
    "'''\n",
    "What is a Future object?\n",
    " - Async functions are functions that do not block and may have a long process to return a result. (I/o, networking, user defined)\n",
    " - Async functions provide a funture value, which is an objject that indicates that result of that function is ready.\n",
    "   - This is to allow you to do other things while you wait (on blocking)\n",
    "- Future.done()\n",
    "   - Returns true when your future results is read to be assigned.\n",
    "- Future Result()\n",
    "'''"
   ]
  },
  {
   "cell_type": "code",
   "execution_count": 5,
   "id": "341658a5",
   "metadata": {},
   "outputs": [],
   "source": [
    "#Callback groups\n",
    "'''\n",
    "A way to control the scheduling of the callback functions for executors in RCLPY\n",
    "\n",
    "2 Types \n",
    "\n",
    "Reentrant (parallel processing multi-threading)\n",
    "    - \"Allows\" the executor to schedule and execute the group (probably going to use this method for implementation)\n",
    "    \n",
    "Mutually exclusive\n",
    "    - Mutually exclusive \"we must complete all callbacks one after another before it can service another callback group\"\n",
    "    \n",
    "Callbacks belonging to different callbackk groups (of any type) can always be executed parallel to each other.\n",
    "\n",
    "'''"
   ]
  },
  {
   "cell_type": "code",
   "execution_count": 2,
   "id": "27207821",
   "metadata": {},
   "outputs": [
    {
     "data": {
      "text/plain": [
       "'\\nThe order in which our callbacks are executed\\n\\nin ROS2, if your callbacks are short and are shorter than the period in which messages and events occur in ROS2,\\nthen they will likely be executed in FIFO order\\n\\nLong running callbacks will cause a backup in messages/events and will be executed in a round robin fashion as\\n'"
      ]
     },
     "execution_count": 2,
     "metadata": {},
     "output_type": "execute_result"
    }
   ],
   "source": [
    "#Scheduling in ros2\n",
    "\n",
    "'''\n",
    "The order in which our callbacks are executed\n",
    "\n",
    "in ROS2, if your callbacks are short and are shorter than the period in which messages and events occur in ROS2,\n",
    "then they will likely be executed in FIFO order\n",
    "\n",
    "Long running callbacks will cause a backup in messages/events and will be executed in a round robin fashion as\n",
    "defined\n",
    "\n",
    "\n",
    "Callbacks may suffer priority inversion\n",
    " - Higer priority tass are blocked until low priority callbacks finish\n",
    "No explicit control over callback execution oder\n",
    "No build-in control over trigger for specific topics.\n",
    "\n",
    "ROS2 is considered a distrubuted(due to the nodes) RTOS bu has challenge meetings hard real time requirements.\n",
    "\n",
    "Hard real time: Events/actions must happen right now!\n",
    "\n",
    "'''"
   ]
  },
  {
   "cell_type": "code",
   "execution_count": 7,
   "id": "cb86eb8f",
   "metadata": {},
   "outputs": [],
   "source": [
    "#Goal status\n",
    "'''\n",
    "Goal status defines the current state of a goal\n",
    "\n",
    "This value is stored in the goal handle as a GoalHandle.Status\n",
    "\n",
    "Use these statuses to determine the state of the goal\n",
    "\n",
    "'''"
   ]
  },
  {
   "cell_type": "code",
   "execution_count": null,
   "id": "3140eed1",
   "metadata": {},
   "outputs": [],
   "source": [
    "#New Skeleton"
   ]
  }
 ],
 "metadata": {
  "kernelspec": {
   "display_name": "Python 3 (ipykernel)",
   "language": "python",
   "name": "python3"
  },
  "language_info": {
   "codemirror_mode": {
    "name": "ipython",
    "version": 3
   },
   "file_extension": ".py",
   "mimetype": "text/x-python",
   "name": "python",
   "nbconvert_exporter": "python",
   "pygments_lexer": "ipython3",
   "version": "3.9.13"
  }
 },
 "nbformat": 4,
 "nbformat_minor": 5
}
